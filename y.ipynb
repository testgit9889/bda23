{
 "cells": [
  {
   "cell_type": "code",
   "execution_count": null,
   "id": "ad5fc657-3b00-4cef-9e91-d030b4b2d5f7",
   "metadata": {},
   "outputs": [],
   "source": [
    "print('yyy')"
   ]
  }
 ],
 "metadata": {
  "kernelspec": {
   "display_name": "Python 3 (ipykernel)",
   "language": "python",
   "name": "python3"
  },
  "language_info": {
   "codemirror_mode": {
    "name": "ipython",
    "version": 3
   },
   "file_extension": ".py",
   "mimetype": "text/x-python",
   "name": "python",
   "nbconvert_exporter": "python",
   "pygments_lexer": "ipython3",
   "version": "3.12.7"
  }
 },
 "nbformat": 4,
 "nbformat_minor": 5
}
